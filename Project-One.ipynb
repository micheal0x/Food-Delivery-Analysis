{
 "cells": [
  {
   "cell_type": "code",
   "execution_count": null,
   "id": "f7c9ce5f-c927-4ba2-8d77-67597878c96f",
   "metadata": {},
   "outputs": [],
   "source": [
    "# 1: Data Cleaning\n",
    "# Cleaninig Prompt\n",
    "\n",
    "import pandas as pd\n",
    "import numpy as np\n",
    "import seaborn as sns\n",
    "import plotly.express as px\n",
    "import matplotlib.pyplot as plt\n",
    "from sklearn.impute import SimpleImputer\n",
    "from sklearn.preprocessing import LabelEncoder\n",
    "import re"
   ]
  },
  {
   "cell_type": "code",
   "execution_count": null,
   "id": "13770a1a-d941-4383-a45a-b6c445b99ec7",
   "metadata": {},
   "outputs": [],
   "source": [
    "# Importing Dataset\n",
    "\n",
    "df = pd.read_excel(r\"C:\\Users\\User\\Desktop\\Food_Delivery_Performance.xlsx\")\n",
    "\n",
    "# Making a copy of original dataset for cleaning\n",
    "df_clean = df.copy()"
   ]
  },
  {
   "cell_type": "code",
   "execution_count": null,
   "id": "fbbf8896-2f14-4c84-a5f3-e2368140765d",
   "metadata": {},
   "outputs": [],
   "source": [
    "# Renaming columns for clarity\n",
    "df_clean.rename(columns={\n",
    "    \"multiple_deliveries(yes_1, no_0)\": \"Multiple_deliveries\",\n",
    "    \"Name:\": \"Unnamed\"\n",
    "}, inplace=True)"
   ]
  },
  {
   "cell_type": "code",
   "execution_count": null,
   "id": "d60f4058-8d2c-4e1d-af7a-6e9f376e487c",
   "metadata": {},
   "outputs": [],
   "source": [
    "# Handle missing values\n",
    "df_clean.dropna(subset=[\n",
    "    \"Delivery_person_Age\",\n",
    "    \"Delivery_person_Ratings\",\n",
    "    \"Time_Orderd\",\n",
    "    \"Weather\",\n",
    "    \"Road_traffic_density\",\n",
    "    \"City\"\n",
    "], inplace=True)"
   ]
  },
  {
   "cell_type": "code",
   "execution_count": null,
   "id": "ec338bfc-fcae-4baf-b486-caae998c1b93",
   "metadata": {},
   "outputs": [],
   "source": [
    "# Fill 'Festival' with 'No' assuming missing implies non-festival\n",
    "df_clean[\"Festival\"].fillna(\"No\", inplace=True)"
   ]
  },
  {
   "cell_type": "code",
   "execution_count": null,
   "id": "7828202f-261a-4c59-842a-405993b6a5a0",
   "metadata": {},
   "outputs": [],
   "source": [
    "# Fill missing 'Multiple_deliveries' with 0 (assuming no multiple delivery)\n",
    "df_clean[\"Multiple_deliveries\"].fillna(0, inplace=True)"
   ]
  },
  {
   "cell_type": "code",
   "execution_count": null,
   "id": "e50a9f52-004f-480d-bd19-6ab1778b4a3f",
   "metadata": {},
   "outputs": [],
   "source": [
    "df_clean.info()"
   ]
  },
  {
   "cell_type": "code",
   "execution_count": null,
   "id": "12909b19-b128-4224-a1c1-5edab1f0ee4d",
   "metadata": {},
   "outputs": [],
   "source": [
    "# Convert data types\n",
    "df_clean[\"Delivery_person_Age\"] = df_clean[\"Delivery_person_Age\"].astype(int)\n",
    "df_clean[\"Multiple_deliveries\"] = df_clean[\"Multiple_deliveries\"].astype(int)\n",
    "df_clean[\"Order_Date\"] = pd.to_datetime(df_clean[\"Order_Date\"], errors='coerce', dayfirst=True)\n",
    "df_clean[\"Time_Orderd\"] = pd.to_datetime(df_clean[\"Time_Orderd\"], format='%H:%M:%S', errors='coerce').dt.time\n",
    "df_clean[\"Time_Order_picked\"] = pd.to_datetime(df_clean[\"Time_Order_picked\"], format='%H:%M:%S', errors='coerce').dt.time"
   ]
  },
  {
   "cell_type": "code",
   "execution_count": null,
   "id": "783c93a6-46a2-410e-a4f1-4c4df29357e2",
   "metadata": {},
   "outputs": [],
   "source": [
    "# Drop 'Unnamed' column if it doesn't provide useful info\n",
    "df_clean.drop(columns=[\"Unnamed\"], inplace=True)"
   ]
  },
  {
   "cell_type": "code",
   "execution_count": null,
   "id": "bb95b31f-8519-40d9-af7f-a9fca4dd86e4",
   "metadata": {},
   "outputs": [],
   "source": [
    "# Remove outliers in numeric columns (IQR method for age and ratings)\n",
    "def remove_outliers_iqr(data, column):\n",
    "    Q1 = data[column].quantile(0.25)\n",
    "    Q3 = data[column].quantile(0.75)\n",
    "    IQR = Q3 - Q1\n",
    "    return data[(data[column] >= Q1 - 1.5 * IQR) & (data[column] <= Q3 + 1.5 * IQR)]"
   ]
  },
  {
   "cell_type": "code",
   "execution_count": null,
   "id": "28319d56-a471-418a-b8c7-8d1cb53cf729",
   "metadata": {},
   "outputs": [],
   "source": [
    "df_clean = remove_outliers_iqr(df_clean, \"Delivery_person_Age\")\n",
    "df_clean = remove_outliers_iqr(df_clean, \"Delivery_person_Ratings\")"
   ]
  },
  {
   "cell_type": "code",
   "execution_count": null,
   "id": "4cba000d-5a8c-4e64-83d3-01223865e91b",
   "metadata": {},
   "outputs": [],
   "source": [
    "# Summary of cleaned data\n",
    "df_clean.info(), df_clean.head()"
   ]
  },
  {
   "cell_type": "code",
   "execution_count": null,
   "id": "53000602-eedd-43c3-880e-fd8b20967514",
   "metadata": {},
   "outputs": [],
   "source": [
    "# 2: Descriptive Statistics for key numerical variables\n",
    "\n",
    "numeric_cols = [\n",
    "    \"Delivery_person_Age\",\n",
    "    \"Delivery_person_Ratings\",\n",
    "    \"Restaurant_latitude\",\n",
    "    \"Restaurant_longitude\",\n",
    "    \"Delivery_location_latitude\",\n",
    "    \"Delivery_location_longitude\",\n",
    "    \"Vehicle_condition\",\n",
    "    \"Multiple_deliveries\"\n",
    "]"
   ]
  },
  {
   "cell_type": "code",
   "execution_count": null,
   "id": "64d85acd-f3ad-4da9-a837-c427461bc9f6",
   "metadata": {},
   "outputs": [],
   "source": [
    "# Generate descriptive statistics\n",
    "desc_stats = df_clean[numeric_cols].describe().T  # Transpose for better readability\n",
    "\n",
    "desc_stats"
   ]
  },
  {
   "cell_type": "code",
   "execution_count": null,
   "id": "e7b5d96c-51c1-458a-b606-7c7442bef25e",
   "metadata": {},
   "outputs": [],
   "source": [
    "df_clean"
   ]
  },
  {
   "cell_type": "code",
   "execution_count": null,
   "id": "c0ca98b3-750c-4a3f-9527-d1c8ccf2c68f",
   "metadata": {},
   "outputs": [],
   "source": [
    "# Delivery Time Analysis\n",
    "import pandas as pd\n",
    "from datetime import datetime, timedelta"
   ]
  },
  {
   "cell_type": "code",
   "execution_count": null,
   "id": "2cf992dc-cfa3-4256-994e-720ef990dc01",
   "metadata": {},
   "outputs": [],
   "source": [
    "# Combine Order_Date + Time_Orderd into full datetime\n",
    "df_clean['Order_DateTime_Orderd'] = pd.to_datetime(df_clean['Order_Date'].astype(str) + ' ' + df_clean['Time_Orderd'].astype(str), errors='coerce')\n",
    "df_clean['Order_DateTime_Picked'] = pd.to_datetime(df_clean['Order_Date'].astype(str) + ' ' + df_clean['Time_Order_picked'].astype(str), errors='coerce')"
   ]
  },
  {
   "cell_type": "code",
   "execution_count": null,
   "id": "3ab8ab86-f111-4815-a661-2ee26e229169",
   "metadata": {},
   "outputs": [],
   "source": [
    "# Calculate Delivery Duration in minutes\n",
    "df_clean['Delivery_duration_mins'] = (df_clean['Order_DateTime_Picked'] - df_clean['Order_DateTime_Orderd']).dt.total_seconds() / 60"
   ]
  },
  {
   "cell_type": "code",
   "execution_count": null,
   "id": "195ac388-0faa-4057-a81c-2b20d198fe3b",
   "metadata": {},
   "outputs": [],
   "source": [
    "# Drop any negative or extremely large durations\n",
    "df_clean = df_clean[(df_clean['Delivery_duration_mins'] > 0) & (df_clean['Delivery_duration_mins'] < 300)]"
   ]
  },
  {
   "cell_type": "code",
   "execution_count": null,
   "id": "34658d71-0aa3-4ffb-bb74-064620232d31",
   "metadata": {},
   "outputs": [],
   "source": [
    "# Analyzing average delivery time under different conditions\n",
    "\n",
    "# 1. By Traffic Density\n",
    "traffic_delivery = df_clean.groupby('Road_traffic_density')['Delivery_duration_mins'].mean().sort_values()\n",
    "\n",
    "# 2. By Weather Conditions\n",
    "weather_delivery = df_clean.groupby('Weather')['Delivery_duration_mins'].mean().sort_values()\n",
    "\n",
    "# 3. By Vehicle Type\n",
    "vehicle_delivery = df_clean.groupby('Type_of_vehicle')['Delivery_duration_mins'].mean().sort_values()"
   ]
  },
  {
   "cell_type": "code",
   "execution_count": null,
   "id": "1b2de128-bc5f-4c3e-9d62-b1c148ab6f0a",
   "metadata": {},
   "outputs": [],
   "source": [
    "# Display results\n",
    "print(\"🚦 Average Delivery Time by Traffic Density:\")\n",
    "print(traffic_delivery)\n",
    "print(\"\\n☁️ Average Delivery Time by Weather:\")\n",
    "print(weather_delivery)\n",
    "print(\"\\n🏍️ Average Delivery Time by Vehicle Type:\")\n",
    "print(vehicle_delivery)"
   ]
  },
  {
   "cell_type": "code",
   "execution_count": null,
   "id": "43c7a013-3f16-4ab9-ac50-fc3e1d1aca22",
   "metadata": {},
   "outputs": [],
   "source": [
    "# Plotting Average Delivery Time Across Different Conditions\n",
    "import matplotlib.pyplot as plt\n",
    "import seaborn as sns"
   ]
  },
  {
   "cell_type": "code",
   "execution_count": null,
   "id": "37714f5f-76e7-45c0-aacf-456e42884e3b",
   "metadata": {},
   "outputs": [],
   "source": [
    "sns.set(style=\"whitegrid\")\n",
    "plt.figure(figsize=(18, 5))"
   ]
  },
  {
   "cell_type": "code",
   "execution_count": null,
   "id": "f8064514-ac69-4286-bc58-1d5344353ddc",
   "metadata": {},
   "outputs": [],
   "source": [
    "# 1️⃣ Plot Average Delivery Time by Traffic Density\n",
    "plt.subplot(1, 3, 1)\n",
    "sns.barplot(x=traffic_delivery.index, y=traffic_delivery.values, palette=\"coolwarm\")\n",
    "plt.title(\"🚦 Avg Delivery Time by Traffic Density\", fontsize=14)\n",
    "plt.xlabel(\"Traffic Density\")\n",
    "plt.ylabel(\"Average Delivery Time (minutes)\")\n",
    "plt.xticks(rotation=45)\n",
    "plt.tight_layout()\n",
    "plt.show()"
   ]
  },
  {
   "cell_type": "code",
   "execution_count": null,
   "id": "03b76b6a-3484-4233-9949-63d63c1951fc",
   "metadata": {},
   "outputs": [],
   "source": [
    "# 2️⃣ Plot Average Delivery Time by Weather\n",
    "plt.subplot(1, 3, 2)\n",
    "sns.barplot(x=weather_delivery.index, y=weather_delivery.values, palette=\"Blues_r\")\n",
    "plt.title(\"☁️ Avg Delivery Time by Weather\", fontsize=14)\n",
    "plt.xlabel(\"Weather\")\n",
    "plt.ylabel(\"\")\n",
    "plt.xticks(rotation=45)\n",
    "plt.tight_layout()\n",
    "plt.show()"
   ]
  },
  {
   "cell_type": "code",
   "execution_count": null,
   "id": "85ae1c60-6f6f-4b6d-841f-14b3478eafa2",
   "metadata": {},
   "outputs": [],
   "source": [
    "# 3️⃣ Plot Average Delivery Time by Vehicle Type\n",
    "plt.subplot(1, 3, 3)\n",
    "sns.barplot(x=vehicle_delivery.index, y=vehicle_delivery.values, palette=\"Greens_r\")\n",
    "plt.title(\"🏍️ Avg Delivery Time by Vehicle Type\", fontsize=14)\n",
    "plt.xlabel(\"Vehicle Type\")\n",
    "plt.ylabel(\"\")\n",
    "plt.xticks(rotation=45)\n",
    "plt.tight_layout()\n",
    "plt.show()\n"
   ]
  },
  {
   "cell_type": "code",
   "execution_count": null,
   "id": "3477f2ba-cf40-4241-8261-24282b6c2a99",
   "metadata": {},
   "outputs": [],
   "source": [
    "# 4: Effect Of Traffic Density\n",
    "\n",
    "sns.boxplot(\n",
    "    data=df_clean,\n",
    "    x='Road_traffic_density',\n",
    "    y='Delivery_duration_mins',\n",
    "    palette=\"Set2\")"
   ]
  },
  {
   "cell_type": "code",
   "execution_count": null,
   "id": "112244e1-7af3-4f99-9957-65acb67d0cc2",
   "metadata": {},
   "outputs": [],
   "source": [
    "# Add title and labels\n",
    "plt.title(\"🚦 Delivery Time Distribution by Traffic Density\", fontsize=16)\n",
    "plt.xlabel(\"Traffic Density\", fontsize=12)\n",
    "plt.ylabel(\"Delivery Duration (minutes)\", fontsize=12)\n",
    "plt.xticks(rotation=45)"
   ]
  },
  {
   "cell_type": "code",
   "execution_count": null,
   "id": "91ea717e-f9ca-4459-a27c-16bbb95f6ae4",
   "metadata": {},
   "outputs": [],
   "source": [
    "plt.tight_layout()\n",
    "plt.show()"
   ]
  },
  {
   "cell_type": "code",
   "execution_count": null,
   "id": "a0d4b761-3ad0-4ae5-862e-3336c374c532",
   "metadata": {},
   "outputs": [],
   "source": [
    "# 5: Effect Of Weather Condition\n",
    "\n",
    "sns.set(style=\"whitegrid\")\n",
    "\n",
    "plt.figure(figsize=(10, 6))"
   ]
  },
  {
   "cell_type": "code",
   "execution_count": null,
   "id": "f40dfef1-5cda-4464-a20e-b23b5b9bfa61",
   "metadata": {},
   "outputs": [],
   "source": [
    "# Create a boxplot for delivery time vs weather\n",
    "sns.boxplot(\n",
    "    data=df_clean,\n",
    "    x='Weather',\n",
    "    y='Delivery_duration_mins',\n",
    "    palette=\"coolwarm\")"
   ]
  },
  {
   "cell_type": "code",
   "execution_count": null,
   "id": "b37ba56a-429f-4c03-a42b-f9790f95de93",
   "metadata": {},
   "outputs": [],
   "source": [
    "# Add titles and labels\n",
    "plt.title(\"🌦️ Delivery Time Distribution by Weather Condition\", fontsize=16)\n",
    "plt.xlabel(\"Weather Condition\", fontsize=12)\n",
    "plt.ylabel(\"Delivery Duration (minutes)\", fontsize=12)\n",
    "plt.xticks(rotation=45)"
   ]
  },
  {
   "cell_type": "code",
   "execution_count": null,
   "id": "d8192fe5-7fba-4e99-8b04-acdf7b7d7337",
   "metadata": {},
   "outputs": [],
   "source": [
    "# Show plot\n",
    "plt.tight_layout()\n",
    "plt.show()"
   ]
  },
  {
   "cell_type": "code",
   "execution_count": null,
   "id": "8cde4987-3ce2-425a-b272-5ad2f0bd494f",
   "metadata": {},
   "outputs": [],
   "source": [
    "# --------------- ⭐ Analysis by Delivery Personnel Ratings ---------------\n",
    "\n",
    "# Bin ratings into categories\n",
    "rating_bins = [0, 2.5, 3.5, 4.5, 5.0]\n",
    "rating_labels = ['Low', 'Medium', 'High', 'Excellent']\n",
    "df_clean['Rating_category'] = pd.cut(df_clean['Delivery_person_Ratings'], bins=rating_bins, labels=rating_labels)"
   ]
  },
  {
   "cell_type": "code",
   "execution_count": null,
   "id": "dc2e1f80-8cef-4b5d-b325-acb3c53aeefa",
   "metadata": {},
   "outputs": [],
   "source": [
    "# Plot average delivery duration by rating category\n",
    "plt.figure(figsize=(8, 5))\n",
    "sns.barplot(data=df_clean, x='Rating_category', y='Delivery_duration_mins', palette='YlGnBu')\n",
    "plt.title('⭐ Avg Delivery Time by Delivery Personnel Ratings', fontsize=16)\n",
    "plt.xlabel('Rating Category', fontsize=12)\n",
    "plt.ylabel('Average Delivery Duration (minutes)', fontsize=12)\n",
    "plt.show()"
   ]
  },
  {
   "cell_type": "code",
   "execution_count": null,
   "id": "7037b9d4-8abe-44fa-b0f5-ede6d345f24f",
   "metadata": {},
   "outputs": [],
   "source": [
    "# --------------- 👨‍🦳 Analysis by Delivery Personnel Age ---------------\n",
    "\n",
    "# Bin ages into groups\n",
    "age_bins = [17, 25, 35, 50, 65]\n",
    "age_labels = ['18-25', '26-35', '36-50', '51-65']\n",
    "df_clean['Age_group'] = pd.cut(df_clean['Delivery_person_Age'], bins=age_bins, labels=age_labels)"
   ]
  },
  {
   "cell_type": "code",
   "execution_count": null,
   "id": "8c3085b4-09db-4e7f-b15d-dfd6edef9185",
   "metadata": {},
   "outputs": [],
   "source": [
    "\n",
    "# Plot average delivery duration by age group\n",
    "plt.figure(figsize=(8, 5))\n",
    "sns.barplot(data=df_clean, x='Age_group', y='Delivery_duration_mins', palette='Oranges')\n",
    "plt.title('👨‍🦳 Avg Delivery Time by Delivery Personnel Age Group', fontsize=16)\n",
    "plt.xlabel('Age Group', fontsize=12)\n",
    "plt.ylabel('Average Delivery Duration (minutes)', fontsize=12)\n",
    "plt.show()"
   ]
  },
  {
   "cell_type": "code",
   "execution_count": null,
   "id": "5001114c-3c86-4188-950e-1e0eb796e661",
   "metadata": {},
   "outputs": [],
   "source": [
    "#Task 7\n",
    "# First, ensure Festival column has consistent format\n",
    "df_clean['Festival'] = df_clean['Festival'].str.strip().str.lower()"
   ]
  },
  {
   "cell_type": "code",
   "execution_count": null,
   "id": "341b83f0-7eac-4c19-ace8-5a92acdbb055",
   "metadata": {},
   "outputs": [],
   "source": [
    "# Group by Festival status\n",
    "festival_summary = df_clean.groupby('Festival').agg({\n",
    "    'Delivery_duration_mins': 'mean',\n",
    "    'ID': 'count'   # Count of orders\n",
    "}).rename(columns={'ID': 'Order_Count'})"
   ]
  },
  {
   "cell_type": "code",
   "execution_count": null,
   "id": "435c2bef-9992-43b2-9cee-648425596aaf",
   "metadata": {},
   "outputs": [],
   "source": [
    "print(\"🎉 Festival Impact Summary:\")\n",
    "print(festival_summary)"
   ]
  },
  {
   "cell_type": "code",
   "execution_count": null,
   "id": "98128ca9-d3ad-41f6-afef-b0c5e814cd1a",
   "metadata": {},
   "outputs": [],
   "source": [
    "\n",
    "# --------------- 📊 Visualization: Delivery Time ---------------\n",
    "\n",
    "plt.figure(figsize=(8, 5))\n",
    "sns.barplot(data=df_clean, x='Festival', y='Delivery_duration_mins', palette='pastel')\n",
    "plt.title('🎈 Average Delivery Time During Festival vs Non-Festival', fontsize=16)\n",
    "plt.xlabel('Festival (yes or no)', fontsize=12)\n",
    "plt.ylabel('Average Delivery Duration (minutes)', fontsize=12)\n",
    "plt.xticks([0, 1], ['No', 'Yes'])  # assuming 'no', 'yes' in lowercase\n",
    "plt.show()"
   ]
  },
  {
   "cell_type": "code",
   "execution_count": null,
   "id": "f3a8a593-d743-4243-ad62-b22dfdd6135b",
   "metadata": {},
   "outputs": [],
   "source": [
    "# --------------- 📊 Visualization: Order Volume ---------------\n",
    "\n",
    "plt.figure(figsize=(8, 5))\n",
    "sns.countplot(data=df_clean, x='Festival', palette='pastel')\n",
    "plt.title('🎉 Order Volume During Festival vs Non-Festival', fontsize=16)\n",
    "plt.xlabel('Festival (yes or no)', fontsize=12)\n",
    "plt.ylabel('Order Count', fontsize=12)\n",
    "plt.xticks([0, 1], ['No', 'Yes'])  \n",
    "plt.show()"
   ]
  },
  {
   "cell_type": "code",
   "execution_count": null,
   "id": "4218d2c8-0437-4622-8011-b486cccfb2be",
   "metadata": {},
   "outputs": [],
   "source": [
    "pip install folium"
   ]
  },
  {
   "cell_type": "code",
   "execution_count": null,
   "id": "1c97a4aa-0c9c-4c7c-96f6-a6b2b1ae235d",
   "metadata": {},
   "outputs": [],
   "source": [
    "import folium\n",
    "from folium.plugins import MarkerCluster"
   ]
  },
  {
   "cell_type": "code",
   "execution_count": null,
   "id": "2144c392-cdea-4aa5-94db-48d385b8418d",
   "metadata": {},
   "outputs": [],
   "source": [
    "# --------------- 🗺️ Create a map for Delivery Locations ---------------\n",
    "\n",
    "# 1. Find the center point for the initial map\n",
    "latitude_center = df_clean['Delivery_location_latitude'].mean()\n",
    "longitude_center = df_clean['Delivery_location_longitude'].mean()\n"
   ]
  },
  {
   "cell_type": "code",
   "execution_count": null,
   "id": "9586cd48-e7f4-45ec-8f39-192e9cfa42b5",
   "metadata": {},
   "outputs": [],
   "source": [
    "# 2. Initialize the Folium map\n",
    "delivery_map = folium.Map(location=[latitude_center, longitude_center], zoom_start=12)"
   ]
  },
  {
   "cell_type": "code",
   "execution_count": null,
   "id": "c7f9abd0-6fb5-438d-b34f-032b97d89de9",
   "metadata": {},
   "outputs": [],
   "source": [
    "# 3. Add a Marker Cluster\n",
    "marker_cluster = MarkerCluster().add_to(delivery_map)"
   ]
  },
  {
   "cell_type": "code",
   "execution_count": null,
   "id": "b95beca6-2908-4f3a-8e17-138683e83212",
   "metadata": {},
   "outputs": [],
   "source": [
    "# 4. Add each delivery point to the cluster\n",
    "for idx, row in df_clean.iterrows():\n",
    "    folium.Marker(\n",
    "        location=[row['Delivery_location_latitude'], row['Delivery_location_longitude']],\n",
    "        popup=f\"Delivery ID: {row['ID']}\",\n",
    "        icon=folium.Icon(color='blue', icon='bicycle', prefix='fa')).add_to(marker_cluster)"
   ]
  },
  {
   "cell_type": "code",
   "execution_count": null,
   "id": "d4640845-3897-4740-9482-ecdda1ba8dc5",
   "metadata": {},
   "outputs": [],
   "source": [
    "# 5. Display the map\n",
    "delivery_map"
   ]
  },
  {
   "cell_type": "code",
   "execution_count": null,
   "id": "f8515634-3fc8-4e5d-b1e9-b64ee09e9980",
   "metadata": {},
   "outputs": [],
   "source": [
    "import folium\n",
    "from folium.plugins import MarkerCluster\n",
    "\n",
    "# --------------- 🗺️ Create a map for Restaurant and Delivery Locations ---------------\n",
    "\n",
    "# 1. Center point for the map\n",
    "latitude_center = df_clean[['Restaurant_latitude', 'Delivery_location_latitude']].mean().mean()\n",
    "longitude_center = df_clean[['Restaurant_longitude', 'Delivery_location_longitude']].mean().mean()\n",
    "\n",
    "# 2. Initialize the Folium map\n",
    "full_map = folium.Map(location=[latitude_center, longitude_center], zoom_start=12)\n",
    "\n",
    "# 3. Marker Clusters for Restaurants and Deliveries\n",
    "restaurant_cluster = MarkerCluster(name='Restaurants').add_to(full_map)\n",
    "delivery_cluster = MarkerCluster(name='Deliveries').add_to(full_map)\n",
    "\n",
    "# 4. Add Restaurant Locations (red icons)\n",
    "for idx, row in df_clean.iterrows():\n",
    "    folium.Marker(\n",
    "        location=[row['Restaurant_latitude'], row['Restaurant_longitude']],\n",
    "        popup=f\"Restaurant for ID: {row['ID']}\",\n",
    "        icon=folium.Icon(color='red', icon='cutlery', prefix='fa')\n",
    "    ).add_to(restaurant_cluster)\n",
    "\n",
    "# 5. Add Delivery Locations (blue icons)\n",
    "for idx, row in df_clean.iterrows():\n",
    "    folium.Marker(\n",
    "        location=[row['Delivery_location_latitude'], row['Delivery_location_longitude']],\n",
    "        popup=f\"Delivery to ID: {row['ID']}\",\n",
    "        icon=folium.Icon(color='blue', icon='shopping-bag', prefix='fa')\n",
    "    ).add_to(delivery_cluster)\n",
    "\n",
    "# 6. Add a layer control toggle\n",
    "folium.LayerControl().add_to(full_map)\n",
    "\n",
    "# 7. Show the map\n",
    "full_map"
   ]
  },
  {
   "cell_type": "code",
   "execution_count": null,
   "id": "ed1fabbd-a8c8-48bd-ad36-ef2fd22e075e",
   "metadata": {},
   "outputs": [],
   "source": [
    "# 9"
   ]
  },
  {
   "cell_type": "code",
   "execution_count": null,
   "id": "d8b0fc10-e307-4c2a-a22f-cbfe79343250",
   "metadata": {},
   "outputs": [],
   "source": [
    "# --📅 Daily Order Trends --\n",
    "\n",
    "# First, make sure Order_Date is a proper datetime\n",
    "df_clean['Order_Date'] = pd.to_datetime(df_clean['Order_Date'])\n",
    "\n",
    "# Group by order date and count number of orders\n",
    "daily_orders = df_clean.groupby(df_clean['Order_Date']).size()\n",
    "\n",
    "# Plot daily orders\n",
    "plt.figure(figsize=(12, 6))\n",
    "daily_orders.plot(kind='line', color='teal')\n",
    "plt.title('📅 Daily Order Trend', fontsize=16)\n",
    "plt.xlabel('Order Date', fontsize=12)\n",
    "plt.ylabel('Number of Orders', fontsize=12)\n",
    "plt.grid(True)\n",
    "plt.show()\n",
    "\n",
    "# -- ⏰ Hourly Order Trends --\n",
    "\n",
    "# Extract hour from Time_Orderd\n",
    "df_clean['Hour_Orderd'] = pd.to_datetime(df_clean['Time_Orderd'], format='%H:%M:%S', errors='coerce').dt.hour\n",
    "\n",
    "# Group by hour and count number of orders\n",
    "hourly_orders = df_clean.groupby('Hour_Orderd').size()\n",
    "\n",
    "# Plot hourly orders\n",
    "plt.figure(figsize=(12, 6))\n",
    "sns.barplot(x=hourly_orders.index, y=hourly_orders.values, palette='viridis')\n",
    "plt.title('⏰ Hourly Order Trend', fontsize=16)\n",
    "plt.xlabel('Hour of the Day', fontsize=12)\n",
    "plt.ylabel('Number of Orders', fontsize=12)\n",
    "plt.xticks(range(0,24))\n",
    "plt.grid(True)\n",
    "plt.show()"
   ]
  },
  {
   "cell_type": "code",
   "execution_count": null,
   "id": "d38fa02a-7484-493f-bcaf-3b9301d0cb6e",
   "metadata": {},
   "outputs": [],
   "source": [
    "# 10"
   ]
  },
  {
   "cell_type": "code",
   "execution_count": null,
   "id": "e22152b3-94ec-4f88-a588-0993cb2b4142",
   "metadata": {},
   "outputs": [],
   "source": [
    "# --------------- 🚗 Vehicle Condition Analysis ---------------\n",
    "\n",
    "# Quick look at the unique values\n",
    "print(\"Unique Vehicle Condition Scores:\", df_clean['Vehicle_condition'].unique())\n",
    "\n",
    "# Plot delivery duration vs vehicle condition\n",
    "plt.figure(figsize=(8, 5))\n",
    "sns.boxplot(\n",
    "    data=df_clean,\n",
    "    x='Vehicle_condition',\n",
    "    y='Delivery_duration_mins',\n",
    "    palette='Set3'\n",
    ")\n",
    "\n",
    "plt.title('🚗 Delivery Time Distribution by Vehicle Condition', fontsize=16)\n",
    "plt.xlabel('Vehicle Condition Score (Higher = Better)', fontsize=12)\n",
    "plt.ylabel('Delivery Duration (minutes)', fontsize=12)\n",
    "plt.grid(True)\n",
    "plt.show()"
   ]
  },
  {
   "cell_type": "code",
   "execution_count": null,
   "id": "f11cde82-4813-41f7-b2d4-85596e9c4af2",
   "metadata": {},
   "outputs": [],
   "source": [
    "vehicle_condition_summary = df_clean.groupby('Vehicle_condition')['Delivery_duration_mins'].mean()\n",
    "print(vehicle_condition_summary)"
   ]
  },
  {
   "cell_type": "code",
   "execution_count": null,
   "id": "ab93d26e-995a-45b7-88ef-d7799a6ee1e4",
   "metadata": {},
   "outputs": [],
   "source": [
    "# 11"
   ]
  },
  {
   "cell_type": "code",
   "execution_count": null,
   "id": "63de4f57-2c0e-4152-a966-0986e3b37f18",
   "metadata": {},
   "outputs": [],
   "source": [
    "print(df_clean.columns.tolist())"
   ]
  },
  {
   "cell_type": "code",
   "execution_count": null,
   "id": "f05b3a3b-af69-409a-b15e-6e0c10ef332c",
   "metadata": {},
   "outputs": [],
   "source": [
    "# --------------- 📦 Multiple Deliveries Analysis ---------------\n",
    "\n",
    "# Quick check on unique delivery counts\n",
    "print(\"Unique Multiple Deliveries Values:\", df_clean['Multiple_deliveries'].unique())\n",
    "\n",
    "# Make sure multiple_deliveries is numeric\n",
    "df_clean['Multiple_deliveries'] = pd.to_numeric(df_clean['Multiple_deliveries'], errors='coerce')\n",
    "\n",
    "# Plot delivery duration vs number of deliveries\n",
    "plt.figure(figsize=(10, 6))\n",
    "sns.boxplot(\n",
    "    data=df_clean,\n",
    "    x='Multiple_deliveries',\n",
    "    y='Delivery_duration_mins',\n",
    "    palette='Accent')\n",
    "\n",
    "plt.title('📦➕ Delivery Time vs Number of Multiple Deliveries', fontsize=16)\n",
    "plt.xlabel('Number of Deliveries (per trip)', fontsize=12)\n",
    "plt.ylabel('Delivery Duration (minutes)', fontsize=12)\n",
    "plt.grid(True)\n",
    "plt.show()\n"
   ]
  },
  {
   "cell_type": "code",
   "execution_count": null,
   "id": "14f68e0c-e691-4988-ab90-3b48f8e3c128",
   "metadata": {},
   "outputs": [],
   "source": [
    "df_clean.to_csv('clean_food_delivery_data.csv', index=False)"
   ]
  },
  {
   "cell_type": "code",
   "execution_count": null,
   "id": "5d522b5e-8483-4eef-8c5c-0220788147c1",
   "metadata": {},
   "outputs": [],
   "source": [
    "df_clean.head(50)"
   ]
  },
  {
   "cell_type": "code",
   "execution_count": null,
   "id": "4fb1bf01-582b-4199-aca5-24ba66d73c4a",
   "metadata": {},
   "outputs": [],
   "source": []
  }
 ],
 "metadata": {
  "kernelspec": {
   "display_name": "Python 3 (ipykernel)",
   "language": "python",
   "name": "python3"
  },
  "language_info": {
   "codemirror_mode": {
    "name": "ipython",
    "version": 3
   },
   "file_extension": ".py",
   "mimetype": "text/x-python",
   "name": "python",
   "nbconvert_exporter": "python",
   "pygments_lexer": "ipython3",
   "version": "3.11.7"
  }
 },
 "nbformat": 4,
 "nbformat_minor": 5
}
